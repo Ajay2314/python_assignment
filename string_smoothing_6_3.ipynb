{
  "nbformat": 4,
  "nbformat_minor": 0,
  "metadata": {
    "colab": {
      "provenance": []
    },
    "kernelspec": {
      "name": "python3",
      "display_name": "Python 3"
    },
    "language_info": {
      "name": "python"
    }
  },
  "cells": [
    {
      "cell_type": "code",
      "execution_count": 5,
      "metadata": {
        "colab": {
          "base_uri": "https://localhost:8080/"
        },
        "id": "4d2qMt8sKLLP",
        "outputId": "cc1df067-cd4e-47a6-a9e7-e43fddf4fb50"
      },
      "outputs": [
        {
          "output_type": "stream",
          "name": "stdout",
          "text": [
            "[10.0, 10.0, 12.0, 12.0, 12.0, 12.0, 4.0, 4.0, 4.0]\n"
          ]
        }
      ],
      "source": [
        "#without function\n",
        "a = \"0,0,30,0,0,0,50,0,0\"\n",
        "b = a.split(\",\")\n",
        "x = 0\n",
        "i = 0\n",
        "z = 0\n",
        "while i < len(b):\n",
        "  if int(b[i]) > 0 and i > 0:\n",
        "    c = int(b[x])\n",
        "    for z in range(x ,i+1):\n",
        "      b[z] = (c+int(b[i]))/((i-x)+1)\n",
        "    x = i\n",
        "  i += 1\n",
        "last_digit = z\n",
        "r = -1\n",
        "last_value = int(b[z])\n",
        "if int(b[r]) == 0:\n",
        "  for z in range(last_digit ,len(b)):\n",
        "    b[z] = (last_value)/(len(b)-last_digit)\n",
        "print(b)"
      ]
    },
    {
      "cell_type": "code",
      "source": [
        "#with function\n",
        "def curve_smoothing(a):\n",
        "  b = a.split(\",\")\n",
        "  x = 0\n",
        "  i = 0\n",
        "  z = 0\n",
        "  while i < len(b):\n",
        "    if int(b[i]) > 0 and i > 0:\n",
        "      c = int(b[x])\n",
        "      for z in range(x ,i+1):\n",
        "        b[z] = (c+int(b[i]))/((i-x)+1)\n",
        "      x = i\n",
        "    i += 1\n",
        "  last_digit = z\n",
        "  r = -1\n",
        "  last_value = int(b[z])\n",
        "  if int(b[r]) == 0:\n",
        "    for z in range(last_digit ,len(b)):\n",
        "      b[z] = (last_value)/(len(b)-last_digit)\n",
        "  return b"
      ],
      "metadata": {
        "id": "HSMZFPgt7496"
      },
      "execution_count": 12,
      "outputs": []
    },
    {
      "cell_type": "code",
      "source": [
        "#test case1\n",
        "S=  \"0,0,30,0,0,0,50,0,0\"\n",
        "curve_smoothing(S)"
      ],
      "metadata": {
        "colab": {
          "base_uri": "https://localhost:8080/"
        },
        "id": "Ad5O9BTF8xHZ",
        "outputId": "cdc486ab-d2d4-43bf-8cef-99beeb1f9af2"
      },
      "execution_count": 13,
      "outputs": [
        {
          "output_type": "execute_result",
          "data": {
            "text/plain": [
              "[10.0, 10.0, 12.0, 12.0, 12.0, 12.0, 4.0, 4.0, 4.0]"
            ]
          },
          "metadata": {},
          "execution_count": 13
        }
      ]
    },
    {
      "cell_type": "code",
      "source": [
        "#test case2\n",
        "S=  \"80,0,0,0,0\"\n",
        "curve_smoothing(S)"
      ],
      "metadata": {
        "colab": {
          "base_uri": "https://localhost:8080/"
        },
        "id": "4NOoM9Nv-EZO",
        "outputId": "d368d27b-112a-41fc-c81b-f17ba5b7afac"
      },
      "execution_count": 15,
      "outputs": [
        {
          "output_type": "execute_result",
          "data": {
            "text/plain": [
              "[16.0, 16.0, 16.0, 16.0, 16.0]"
            ]
          },
          "metadata": {},
          "execution_count": 15
        }
      ]
    },
    {
      "cell_type": "code",
      "source": [
        "S=  \"40,0,0,0,60\"\n",
        "curve_smoothing(S)"
      ],
      "metadata": {
        "colab": {
          "base_uri": "https://localhost:8080/"
        },
        "id": "KY98Dhmu-e_e",
        "outputId": "31e3bf38-ef86-46d6-8ce4-0adbdc8f5b0e"
      },
      "execution_count": 16,
      "outputs": [
        {
          "output_type": "execute_result",
          "data": {
            "text/plain": [
              "[20.0, 20.0, 20.0, 20.0, 20.0]"
            ]
          },
          "metadata": {},
          "execution_count": 16
        }
      ]
    },
    {
      "cell_type": "code",
      "source": [
        "S=  \"0,0,0,24\"\n",
        "curve_smoothing(S)"
      ],
      "metadata": {
        "colab": {
          "base_uri": "https://localhost:8080/"
        },
        "id": "54FVwZGi-lVw",
        "outputId": "84d26309-9d8b-4974-ebdd-976f5a90e8bb"
      },
      "execution_count": 17,
      "outputs": [
        {
          "output_type": "execute_result",
          "data": {
            "text/plain": [
              "[6.0, 6.0, 6.0, 6.0]"
            ]
          },
          "metadata": {},
          "execution_count": 17
        }
      ]
    }
  ]
}