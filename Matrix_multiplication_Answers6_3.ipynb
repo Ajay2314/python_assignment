{
  "nbformat": 4,
  "nbformat_minor": 0,
  "metadata": {
    "colab": {
      "provenance": []
    },
    "kernelspec": {
      "name": "python3",
      "display_name": "Python 3"
    },
    "language_info": {
      "name": "python"
    }
  },
  "cells": [
    {
      "cell_type": "code",
      "execution_count": 45,
      "metadata": {
        "colab": {
          "base_uri": "https://localhost:8080/"
        },
        "id": "Cf25jwSFUvdh",
        "outputId": "7102ee9e-2e3b-41fb-ca52-0b02c12d9349"
      },
      "outputs": [
        {
          "output_type": "stream",
          "name": "stdout",
          "text": [
            "Not Possible\n"
          ]
        }
      ],
      "source": [
        "#Matrix Multiplication without function\n",
        "\n",
        "a = []\n",
        "a.append([1,2])\n",
        "a.append([3,4])\n",
        "b = []\n",
        "b.append([1,4])\n",
        "b.append([5,6])\n",
        "b.append([7,8])\n",
        "b.append([9,6])\n",
        "r =[]\n",
        "for var in range(len(a)):\n",
        "  r.append([])\n",
        "  for col in range(len(b[0])):\n",
        "    r[var].append(0)\n",
        "\n",
        "if len(a[0])==len(b):\n",
        "  for x in range(len(a)):\n",
        "    for y in range(len(b[0])):\n",
        "      for z in range(len(b)):\n",
        "        r[x][y] += a[x][z] * b[z][y]\n",
        "  for val in r:\n",
        "    print(val)\n",
        "  \n",
        "else:\n",
        "  print(\"Not Possible\")\n"
      ]
    },
    {
      "cell_type": "code",
      "source": [
        "#For creating Resultant empty matrix\n",
        "print(len(a),len(b[0]))\n",
        "r =[]\n",
        "for var in range(len(a)):\n",
        "  r.append([])\n",
        "  for col in range(len(b[0])):\n",
        "    r[var].append(0)\n",
        "print(r)"
      ],
      "metadata": {
        "colab": {
          "base_uri": "https://localhost:8080/"
        },
        "id": "p1Wd9k_sdTjx",
        "outputId": "51e17e48-c3c5-46e0-8192-c5d0031cba3a"
      },
      "execution_count": 65,
      "outputs": [
        {
          "output_type": "stream",
          "name": "stdout",
          "text": [
            "3 3\n",
            "[[0, 0, 0], [0, 0, 0], [0, 0, 0]]\n"
          ]
        }
      ]
    },
    {
      "cell_type": "code",
      "source": [
        "#function for matrix multiplication\n",
        "def matrix_mul(A, B):\n",
        "  r =[]\n",
        "  for var in range(len(A)):\n",
        "    r.append([])\n",
        "    for col in range(len(B[0])):\n",
        "      r[var].append(0)\n",
        "  if len(a[0])==len(b):\n",
        "    for x in range(len(A)):\n",
        "      for y in range(len(B[0])):\n",
        "        for z in range(len(B)):\n",
        "          r[x][y] += A[x][z] * B[z][y]\n",
        "    return r\n",
        "  else:\n",
        "    return(\"Not Found\")\n"
      ],
      "metadata": {
        "id": "KN5H3k05lOee"
      },
      "execution_count": 91,
      "outputs": []
    },
    {
      "cell_type": "code",
      "source": [
        "#test case1\n",
        "A = []\n",
        "A.append([1,3,4])\n",
        "A.append([2,5,7])\n",
        "A.append([5,9,6])\n",
        "B = []\n",
        "B.append([1,0,0])\n",
        "B.append([0,1,0])\n",
        "B.append([0,0,1])\n",
        "matrix_mul(A, B)"
      ],
      "metadata": {
        "colab": {
          "base_uri": "https://localhost:8080/"
        },
        "id": "RfAXxuCQlRHt",
        "outputId": "a613c11a-0a7b-4e6e-b45f-19e0f91fef00"
      },
      "execution_count": 92,
      "outputs": [
        {
          "output_type": "execute_result",
          "data": {
            "text/plain": [
              "[[1, 3, 4], [2, 5, 7], [5, 9, 6]]"
            ]
          },
          "metadata": {},
          "execution_count": 92
        }
      ]
    },
    {
      "cell_type": "code",
      "source": [
        "#Test case 2\n",
        "A = []\n",
        "A.append([1,2])\n",
        "A.append([3,4])\n",
        "B = []\n",
        "B.append([1,2,3,4,5])\n",
        "B.append([5,6,7,8,9])\n",
        "matrix_mul(A,B)\n"
      ],
      "metadata": {
        "colab": {
          "base_uri": "https://localhost:8080/"
        },
        "id": "K2qA9dCBtCzy",
        "outputId": "2f576a42-f722-4da0-8491-db15d6da2752"
      },
      "execution_count": 93,
      "outputs": [
        {
          "output_type": "execute_result",
          "data": {
            "text/plain": [
              "[[11, 14, 17, 20, 23], [23, 30, 37, 44, 51]]"
            ]
          },
          "metadata": {},
          "execution_count": 93
        }
      ]
    },
    {
      "cell_type": "code",
      "source": [
        "#test case 3\n",
        "a = []\n",
        "a.append([1,2])\n",
        "a.append([3,4])\n",
        "b = []\n",
        "b.append([1,2])\n",
        "b.append([2,3])\n",
        "b.append([4,5])\n",
        "b.append([6,8])\n",
        "matrix_mul(a,b)"
      ],
      "metadata": {
        "colab": {
          "base_uri": "https://localhost:8080/",
          "height": 36
        },
        "id": "RKK5UXr2uCFr",
        "outputId": "043a2697-db59-47a4-97cd-7d3257a40901"
      },
      "execution_count": 94,
      "outputs": [
        {
          "output_type": "execute_result",
          "data": {
            "text/plain": [
              "'Not Found'"
            ],
            "application/vnd.google.colaboratory.intrinsic+json": {
              "type": "string"
            }
          },
          "metadata": {},
          "execution_count": 94
        }
      ]
    }
  ]
}