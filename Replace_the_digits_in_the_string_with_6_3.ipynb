{
  "nbformat": 4,
  "nbformat_minor": 0,
  "metadata": {
    "colab": {
      "provenance": []
    },
    "kernelspec": {
      "name": "python3",
      "display_name": "Python 3"
    },
    "language_info": {
      "name": "python"
    }
  },
  "cells": [
    {
      "cell_type": "code",
      "execution_count": 20,
      "metadata": {
        "id": "rET1_AOT3DEV"
      },
      "outputs": [],
      "source": [
        "#Function for printing the \"#\" in place of the digits present in a string\n",
        "import re\n",
        "def replace_digits(String):\n",
        "  x = re.findall(\"\\d\",String)\n",
        "  z = \"\"\n",
        "  for i in range(len(x)):\n",
        "    z = z+\"#\"\n",
        "  print(z)\n",
        "\n",
        "  return z"
      ]
    },
    {
      "cell_type": "code",
      "source": [
        "#test case1\n",
        "String = \"234\"\n",
        "replace_digits(String)"
      ],
      "metadata": {
        "colab": {
          "base_uri": "https://localhost:8080/",
          "height": 54
        },
        "id": "lnu4NZZd7YeX",
        "outputId": "142ce94f-19a5-4238-cf14-9caa24c3b370"
      },
      "execution_count": 25,
      "outputs": [
        {
          "output_type": "stream",
          "name": "stdout",
          "text": [
            "###\n"
          ]
        },
        {
          "output_type": "execute_result",
          "data": {
            "text/plain": [
              "'###'"
            ],
            "application/vnd.google.colaboratory.intrinsic+json": {
              "type": "string"
            }
          },
          "metadata": {},
          "execution_count": 25
        }
      ]
    },
    {
      "cell_type": "code",
      "source": [
        "#testcase 2\n",
        "A = \"a2b3c4\"\n",
        "replace_digits(A)"
      ],
      "metadata": {
        "colab": {
          "base_uri": "https://localhost:8080/",
          "height": 54
        },
        "id": "TNatV6Tw9mtb",
        "outputId": "176907f4-f6ec-4ee5-e9ca-802fe51a5442"
      },
      "execution_count": 24,
      "outputs": [
        {
          "output_type": "stream",
          "name": "stdout",
          "text": [
            "###\n"
          ]
        },
        {
          "output_type": "execute_result",
          "data": {
            "text/plain": [
              "'###'"
            ],
            "application/vnd.google.colaboratory.intrinsic+json": {
              "type": "string"
            }
          },
          "metadata": {},
          "execution_count": 24
        }
      ]
    },
    {
      "cell_type": "code",
      "source": [
        "#Test case 3\n",
        "A = \"#2a$#b%c%561#\"\n",
        "replace_digits(A)"
      ],
      "metadata": {
        "colab": {
          "base_uri": "https://localhost:8080/",
          "height": 54
        },
        "id": "FsHB9VBN-HND",
        "outputId": "f48f4cce-3e8b-4842-b2b0-b94f06937dad"
      },
      "execution_count": 26,
      "outputs": [
        {
          "output_type": "stream",
          "name": "stdout",
          "text": [
            "####\n"
          ]
        },
        {
          "output_type": "execute_result",
          "data": {
            "text/plain": [
              "'####'"
            ],
            "application/vnd.google.colaboratory.intrinsic+json": {
              "type": "string"
            }
          },
          "metadata": {},
          "execution_count": 26
        }
      ]
    }
  ]
}