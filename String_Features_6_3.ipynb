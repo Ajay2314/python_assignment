{
  "nbformat": 4,
  "nbformat_minor": 0,
  "metadata": {
    "colab": {
      "provenance": []
    },
    "kernelspec": {
      "name": "python3",
      "display_name": "Python 3"
    },
    "language_info": {
      "name": "python"
    }
  },
  "cells": [
    {
      "cell_type": "code",
      "execution_count": 43,
      "metadata": {
        "colab": {
          "base_uri": "https://localhost:8080/"
        },
        "id": "sD48AgVX_P0M",
        "outputId": "82f1c121-2ffe-4e93-9974-85f112637f0d"
      },
      "outputs": [
        {
          "output_type": "stream",
          "name": "stdout",
          "text": [
            "7 ['first', 'F', '5'] ['second', 'S', '3']\n"
          ]
        }
      ],
      "source": [
        "#without function\n",
        "S1= \"the first column F will contain only 5 uniques values\"\n",
        "S2= \"the second column S will contain only 3 uniques values\"\n",
        "A = S1.split(\" \")\n",
        "B = S2.split(\" \")\n",
        "a = 0\n",
        "for x in A:\n",
        "  for y in B:\n",
        "    if x == y:\n",
        "      a = a+1\n",
        "b = [x for x in A if x not in B]\n",
        "c = [x for x in B if x not in A]\n",
        "print(a,b,c)"
      ]
    },
    {
      "cell_type": "code",
      "source": [
        "# with function\n",
        "\n",
        "def string_features(s1, s2):\n",
        "  A = S1.split(\" \")\n",
        "  B = S2.split(\" \")\n",
        "  a = 0\n",
        "  for x in A:\n",
        "    for y in B:\n",
        "      if x == y:\n",
        "        a = a+1\n",
        "  b = [x for x in A if x not in B]\n",
        "  c = [x for x in B if x not in A]\n",
        "  print(a ,b ,c)\n"
      ],
      "metadata": {
        "id": "4K7cadZiYzBT"
      },
      "execution_count": 54,
      "outputs": []
    },
    {
      "cell_type": "code",
      "source": [
        "#test case 1\n",
        "S1= \"the first column F will contain only 5 uniques values\"\n",
        "S2= \"the second column S will contain only 3 uniques values\"\n",
        "string_features(S1, S2)"
      ],
      "metadata": {
        "colab": {
          "base_uri": "https://localhost:8080/"
        },
        "id": "No5emNyTayYx",
        "outputId": "b8642d74-27e4-4b95-8916-22164f26ede8"
      },
      "execution_count": 55,
      "outputs": [
        {
          "output_type": "stream",
          "name": "stdout",
          "text": [
            "7 ['first', 'F', '5'] ['second', 'S', '3']\n"
          ]
        }
      ]
    }
  ]
}